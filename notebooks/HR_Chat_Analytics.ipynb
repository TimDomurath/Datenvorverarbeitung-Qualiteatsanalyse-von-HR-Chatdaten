{
 "cells": [
  {
   "cell_type": "markdown",
   "id": "ba033a44",
   "metadata": {},
   "source": [
    "# HR Chat Analytics – Guided Notebook"
   ]
  },
  {
   "cell_type": "markdown",
   "id": "5abc0a78",
   "metadata": {},
   "source": [
    "## Setup"
   ]
  },
  {
   "cell_type": "code",
   "execution_count": null,
   "id": "4026afff",
   "metadata": {},
   "outputs": [],
   "source": [
    "!pip -q install -r ../requirements.txt"
   ]
  },
  {
   "cell_type": "markdown",
   "id": "921bf918",
   "metadata": {},
   "source": [
    "## Daten ablegen\n",
    "`conversations_example.csv` liegt bereits in `../data/`."
   ]
  },
  {
   "cell_type": "markdown",
   "id": "455dd989",
   "metadata": {},
   "source": [
    "## Pipeline ausführen"
   ]
  },
  {
   "cell_type": "code",
   "execution_count": null,
   "id": "91bbe397",
   "metadata": {},
   "outputs": [],
   "source": [
    "import sys\n",
    "sys.path.append('..')\n",
    "from src.pipeline import main\n",
    "main()"
   ]
  },
  {
   "cell_type": "markdown",
   "id": "9598e6cc",
   "metadata": {},
   "source": [
    "## Ergebnisse ansehen"
   ]
  },
  {
   "cell_type": "code",
   "execution_count": null,
   "id": "b9820ff0",
   "metadata": {},
   "outputs": [],
   "source": [
    "import os, IPython\n",
    "for f in sorted(os.listdir('../results')):\n",
    "    if f.endswith(('.png','.svg')):\n",
    "        display(IPython.display.display(IPython.display.SVG(filename='../results/'+f)) if f.endswith('.svg') else IPython.display.Image(filename='../results/'+f))"
   ]
  }
 ],
 "metadata": {},
 "nbformat": 4,
 "nbformat_minor": 5
}
